{
 "metadata": {
  "name": ""
 },
 "nbformat": 3,
 "nbformat_minor": 0,
 "worksheets": [
  {
   "cells": [
    {
     "cell_type": "code",
     "collapsed": false,
     "input": [
      "from sympy import *\n",
      "#from sympy.abc import *\n",
      "init_printing(use_latex=True)\n",
      "\n",
      "from sympy import symbols\n",
      "from sympy.physics.mechanics import ReferenceFrame, Point, dynamicsymbols"
     ],
     "language": "python",
     "metadata": {},
     "outputs": [],
     "prompt_number": 2
    },
    {
     "cell_type": "heading",
     "level": 1,
     "metadata": {},
     "source": [
      "Sistemas de referencia."
     ]
    },
    {
     "cell_type": "markdown",
     "metadata": {},
     "source": [
      "Se definen los distintos sistemas de referencia:"
     ]
    },
    {
     "cell_type": "code",
     "collapsed": false,
     "input": [
      "#ejes tierra\n",
      "Earth = ReferenceFrame(\"Earth\", latexs=['\\mathbf{i_{e}}', '\\mathbf{j_{e}}', '\\mathbf{k_{e}}'])\n",
      "#ejes horizonte local\n",
      "Hor = ReferenceFrame(\"Hor\", latexs=['\\mathbf{i_{h}}', '\\mathbf{j_{h}}', '\\mathbf{k_{h}}'])\n",
      "#ejes cuerpo\n",
      "Body = ReferenceFrame(\"Body\", latexs=['\\mathbf{i_{b}}', '\\mathbf{j_{b}}', '\\mathbf{k_{b}}'])\n",
      "#ejes viento\n",
      "Wind = ReferenceFrame(\"Wind\", latexs=['\\mathbf{i_{w}}', '\\mathbf{j_{w}}', '\\mathbf{k_{w}}'])"
     ],
     "language": "python",
     "metadata": {},
     "outputs": [],
     "prompt_number": 3
    },
    {
     "cell_type": "heading",
     "level": 2,
     "metadata": {},
     "source": [
      "Orientaci\u00f3n del sistema ejes cuerpo respecto al sistema de ejes horizonte local."
     ]
    },
    {
     "cell_type": "markdown",
     "metadata": {},
     "source": [
      "Los sistemas de referencia se orientan mediante los \u00c1ngulos de Euler seg\u00fan el convenio de Tait-Bryan $zyx$ ($321$)"
     ]
    },
    {
     "cell_type": "markdown",
     "metadata": {},
     "source": [
      "$\\psi =$ \u00e1ngulo de gui\u00f1ada del avi\u00f3n.\n",
      "\n",
      "$\\theta =$ \u00e1ngulo de cabeceo del avi\u00f3n.\n",
      "\n",
      "$\\phi =$ \u00e1ngulo de balance del avi\u00f3n."
     ]
    },
    {
     "cell_type": "code",
     "collapsed": false,
     "input": [
      "psi, theta, phi = dynamicsymbols('psi, theta, phi')\n",
      "Body.orient(Hor, 'Body', (psi, theta, phi), 'ZYX')\n",
      "L_bh = Body.dcm(Hor)\n",
      "L_bh"
     ],
     "language": "python",
     "metadata": {},
     "outputs": [
      {
       "latex": [
        "$$\\left[\\begin{smallmatrix}{}\\cos{\\left (\\psi{\\left (t \\right )} \\right )} \\cos{\\left (\\theta{\\left (t \\right )} \\right )} & \\sin{\\left (\\psi{\\left (t \\right )} \\right )} \\cos{\\left (\\theta{\\left (t \\right )} \\right )} & - \\sin{\\left (\\theta{\\left (t \\right )} \\right )}\\\\\\sin{\\left (\\phi{\\left (t \\right )} \\right )} \\sin{\\left (\\theta{\\left (t \\right )} \\right )} \\cos{\\left (\\psi{\\left (t \\right )} \\right )} - \\sin{\\left (\\psi{\\left (t \\right )} \\right )} \\cos{\\left (\\phi{\\left (t \\right )} \\right )} & \\sin{\\left (\\phi{\\left (t \\right )} \\right )} \\sin{\\left (\\psi{\\left (t \\right )} \\right )} \\sin{\\left (\\theta{\\left (t \\right )} \\right )} + \\cos{\\left (\\phi{\\left (t \\right )} \\right )} \\cos{\\left (\\psi{\\left (t \\right )} \\right )} & \\sin{\\left (\\phi{\\left (t \\right )} \\right )} \\cos{\\left (\\theta{\\left (t \\right )} \\right )}\\\\\\sin{\\left (\\phi{\\left (t \\right )} \\right )} \\sin{\\left (\\psi{\\left (t \\right )} \\right )} + \\sin{\\left (\\theta{\\left (t \\right )} \\right )} \\cos{\\left (\\phi{\\left (t \\right )} \\right )} \\cos{\\left (\\psi{\\left (t \\right )} \\right )} & - \\sin{\\left (\\phi{\\left (t \\right )} \\right )} \\cos{\\left (\\psi{\\left (t \\right )} \\right )} + \\sin{\\left (\\psi{\\left (t \\right )} \\right )} \\sin{\\left (\\theta{\\left (t \\right )} \\right )} \\cos{\\left (\\phi{\\left (t \\right )} \\right )} & \\cos{\\left (\\phi{\\left (t \\right )} \\right )} \\cos{\\left (\\theta{\\left (t \\right )} \\right )}\\end{smallmatrix}\\right]$$"
       ],
       "metadata": {},
       "output_type": "pyout",
       "png": "[encoded data removed]",
       "prompt_number": 4,
       "text": [
        "\u23a1                cos(\u03c8(t))\u22c5cos(\u03b8(t))                                  sin(\u03c8(t)\n",
        "\u23a2                                                                             \n",
        "\u23a2sin(\u03c6(t))\u22c5sin(\u03b8(t))\u22c5cos(\u03c8(t)) - sin(\u03c8(t))\u22c5cos(\u03c6(t))  sin(\u03c6(t))\u22c5sin(\u03c8(t))\u22c5sin(\n",
        "\u23a2                                                                             \n",
        "\u23a3sin(\u03c6(t))\u22c5sin(\u03c8(t)) + sin(\u03b8(t))\u22c5cos(\u03c6(t))\u22c5cos(\u03c8(t))  -sin(\u03c6(t))\u22c5cos(\u03c8(t)) + s\n",
        "\n",
        ")\u22c5cos(\u03b8(t))                       -sin(\u03b8(t))     \u23a4\n",
        "                                                 \u23a5\n",
        "\u03b8(t)) + cos(\u03c6(t))\u22c5cos(\u03c8(t))   sin(\u03c6(t))\u22c5cos(\u03b8(t))\u23a5\n",
        "                                                 \u23a5\n",
        "in(\u03c8(t))\u22c5sin(\u03b8(t))\u22c5cos(\u03c6(t))  cos(\u03c6(t))\u22c5cos(\u03b8(t))\u23a6"
       ]
      }
     ],
     "prompt_number": 4
    },
    {
     "cell_type": "heading",
     "level": 2,
     "metadata": {},
     "source": [
      "Orientaci\u00f3n del sistema ejes viento respecto al sistema ejes horizonte local."
     ]
    },
    {
     "cell_type": "code",
     "collapsed": false,
     "input": [
      "chi, gamma, mu = dynamicsymbols('chi, \\gamma, mu')\n",
      "Wind.orient(Hor, 'Body', (chi, gamma, mu), 'ZYX')\n",
      "L_wh = Wind.dcm(Hor)\n",
      "L_wh"
     ],
     "language": "python",
     "metadata": {},
     "outputs": [
      {
       "latex": [
        "$$\\left[\\begin{smallmatrix}{}\\cos{\\left (\\gamma{\\left (t \\right )} \\right )} \\cos{\\left (\\chi{\\left (t \\right )} \\right )} & \\sin{\\left (\\chi{\\left (t \\right )} \\right )} \\cos{\\left (\\gamma{\\left (t \\right )} \\right )} & - \\sin{\\left (\\gamma{\\left (t \\right )} \\right )}\\\\\\sin{\\left (\\gamma{\\left (t \\right )} \\right )} \\sin{\\left (\\mu{\\left (t \\right )} \\right )} \\cos{\\left (\\chi{\\left (t \\right )} \\right )} - \\sin{\\left (\\chi{\\left (t \\right )} \\right )} \\cos{\\left (\\mu{\\left (t \\right )} \\right )} & \\sin{\\left (\\gamma{\\left (t \\right )} \\right )} \\sin{\\left (\\chi{\\left (t \\right )} \\right )} \\sin{\\left (\\mu{\\left (t \\right )} \\right )} + \\cos{\\left (\\chi{\\left (t \\right )} \\right )} \\cos{\\left (\\mu{\\left (t \\right )} \\right )} & \\sin{\\left (\\mu{\\left (t \\right )} \\right )} \\cos{\\left (\\gamma{\\left (t \\right )} \\right )}\\\\\\sin{\\left (\\gamma{\\left (t \\right )} \\right )} \\cos{\\left (\\chi{\\left (t \\right )} \\right )} \\cos{\\left (\\mu{\\left (t \\right )} \\right )} + \\sin{\\left (\\chi{\\left (t \\right )} \\right )} \\sin{\\left (\\mu{\\left (t \\right )} \\right )} & \\sin{\\left (\\gamma{\\left (t \\right )} \\right )} \\sin{\\left (\\chi{\\left (t \\right )} \\right )} \\cos{\\left (\\mu{\\left (t \\right )} \\right )} - \\sin{\\left (\\mu{\\left (t \\right )} \\right )} \\cos{\\left (\\chi{\\left (t \\right )} \\right )} & \\cos{\\left (\\gamma{\\left (t \\right )} \\right )} \\cos{\\left (\\mu{\\left (t \\right )} \\right )}\\end{smallmatrix}\\right]$$"
       ],
       "metadata": {},
       "output_type": "pyout",
       "png": "[encoded data removed]",
       "prompt_number": 5,
       "text": [
        "\u23a1                cos(\\gamma(t))\u22c5cos(\u03c7(t))                                  sin\n",
        "\u23a2                                                                             \n",
        "\u23a2sin(\\gamma(t))\u22c5sin(\u03bc(t))\u22c5cos(\u03c7(t)) - sin(\u03c7(t))\u22c5cos(\u03bc(t))  sin(\\gamma(t))\u22c5sin(\n",
        "\u23a2                                                                             \n",
        "\u23a3sin(\\gamma(t))\u22c5cos(\u03c7(t))\u22c5cos(\u03bc(t)) + sin(\u03c7(t))\u22c5sin(\u03bc(t))  sin(\\gamma(t))\u22c5sin(\n",
        "\n",
        "(\u03c7(t))\u22c5cos(\\gamma(t))                      -sin(\\gamma(t))     \u23a4\n",
        "                                                               \u23a5\n",
        "\u03c7(t))\u22c5sin(\u03bc(t)) + cos(\u03c7(t))\u22c5cos(\u03bc(t))  sin(\u03bc(t))\u22c5cos(\\gamma(t))\u23a5\n",
        "                                                               \u23a5\n",
        "\u03c7(t))\u22c5cos(\u03bc(t)) - sin(\u03bc(t))\u22c5cos(\u03c7(t))  cos(\\gamma(t))\u22c5cos(\u03bc(t))\u23a6"
       ]
      }
     ],
     "prompt_number": 5
    },
    {
     "cell_type": "heading",
     "level": 2,
     "metadata": {},
     "source": [
      "Orientaci\u00f3n del sistema ejes cuerpo respecto al sistema ejes viento."
     ]
    },
    {
     "cell_type": "code",
     "collapsed": false,
     "input": [
      "beta, alpha = dynamicsymbols('beta, alpha')\n",
      "Body.orient(Wind, 'Body', (-beta, alpha, 0), 'ZYX')\n",
      "L_bw = Body.dcm(Wind)\n",
      "L_bw"
     ],
     "language": "python",
     "metadata": {},
     "outputs": [
      {
       "latex": [
        "$$\\left[\\begin{smallmatrix}{}\\cos{\\left (\\alpha{\\left (t \\right )} \\right )} \\cos{\\left (\\beta{\\left (t \\right )} \\right )} & - \\sin{\\left (\\beta{\\left (t \\right )} \\right )} \\cos{\\left (\\alpha{\\left (t \\right )} \\right )} & - \\sin{\\left (\\alpha{\\left (t \\right )} \\right )}\\\\\\sin{\\left (\\beta{\\left (t \\right )} \\right )} & \\cos{\\left (\\beta{\\left (t \\right )} \\right )} & 0\\\\\\sin{\\left (\\alpha{\\left (t \\right )} \\right )} \\cos{\\left (\\beta{\\left (t \\right )} \\right )} & - \\sin{\\left (\\alpha{\\left (t \\right )} \\right )} \\sin{\\left (\\beta{\\left (t \\right )} \\right )} & \\cos{\\left (\\alpha{\\left (t \\right )} \\right )}\\end{smallmatrix}\\right]$$"
       ],
       "metadata": {},
       "output_type": "pyout",
       "png": "[encoded data removed]",
       "prompt_number": 6,
       "text": [
        "\u23a1cos(\u03b1(t))\u22c5cos(\u03b2(t))  -sin(\u03b2(t))\u22c5cos(\u03b1(t))  -sin(\u03b1(t))\u23a4\n",
        "\u23a2                                                     \u23a5\n",
        "\u23a2     sin(\u03b2(t))            cos(\u03b2(t))            0     \u23a5\n",
        "\u23a2                                                     \u23a5\n",
        "\u23a3sin(\u03b1(t))\u22c5cos(\u03b2(t))  -sin(\u03b1(t))\u22c5sin(\u03b2(t))  cos(\u03b1(t)) \u23a6"
       ]
      }
     ],
     "prompt_number": 6
    },
    {
     "cell_type": "heading",
     "level": 2,
     "metadata": {},
     "source": [
      "Orientaci\u00f3n de los ejes horizonte local con respecto a los ejes tierra."
     ]
    },
    {
     "cell_type": "markdown",
     "metadata": {},
     "source": [
      "Como los ejes horizonte local son paralelos a los ejes tierra con origen en el punto subavi\u00f3n en todo momento por definici\u00f3n:"
     ]
    },
    {
     "cell_type": "code",
     "collapsed": false,
     "input": [
      "Hor.orient(Earth, 'Body', (0, 0, 0), 'ZYX')\n",
      "Hor.dcm(Earth)"
     ],
     "language": "python",
     "metadata": {},
     "outputs": [
      {
       "latex": [
        "$$\\left[\\begin{smallmatrix}{}1 & 0 & 0\\\\0 & 1 & 0\\\\0 & 0 & 1\\end{smallmatrix}\\right]$$"
       ],
       "metadata": {},
       "output_type": "pyout",
       "png": "[encoded data removed]",
       "prompt_number": 9,
       "text": [
        "\u23a11  0  0\u23a4\n",
        "\u23a2       \u23a5\n",
        "\u23a20  1  0\u23a5\n",
        "\u23a2       \u23a5\n",
        "\u23a30  0  1\u23a6"
       ]
      }
     ],
     "prompt_number": 9
    },
    {
     "cell_type": "heading",
     "level": 1,
     "metadata": {},
     "source": [
      "Ecuaciones generales del movimiento."
     ]
    },
    {
     "cell_type": "markdown",
     "metadata": {},
     "source": [
      "Se utilizar\u00e1n ahora los teoremas de cantidad de movimiento y momento cin\u00e9tico para obtener las ecuaciones del movimiento del avi\u00f3n:\n",
      "\n",
      "$$\\boldsymbol{\\mathbf{F}}=m\\cdot\\frac{d\\mathbf{\\boldsymbol{V}}}{dt}$$  (se ha despreciado la variaci\u00f3n de la masa)\n",
      "\n",
      "$$\\boldsymbol{G}=\\frac{d\\boldsymbol{h}}{dt}=\\boldsymbol{I}\\boldsymbol{\\omega}$$ \n",
      "\n",
      "Estas ecuaciones se proyectan sobre el sistema de ejes cuerpo con la doble ventaja de que, en ellos, no var\u00eda el tensor de inercia y adem\u00e1s debido a la simetr\u00eda que aparece en todos los aviones convencionales habr\u00e1 t\u00e9rminos de dicho tensor que sean cero."
     ]
    },
    {
     "cell_type": "code",
     "collapsed": false,
     "input": [
      "from sympy.physics.mechanics import inertia\n",
      "I_x, I_y, I_z, J_xz = symbols('I_x, I_y, I_z, J_xz')\n",
      "I = inertia(Body, I_x, I_y, I_z, 0, 0, -J_xz)\n",
      "I"
     ],
     "language": "python",
     "metadata": {},
     "outputs": [
      {
       "latex": [
        "$I_{x} \\mathbf{i_{b}}\\otimes \\mathbf{i_{b}} -  J_{xz} \\mathbf{i_{b}}\\otimes \\mathbf{k_{b}} + I_{y} \\mathbf{j_{b}}\\otimes \\mathbf{j_{b}} -  J_{xz} \\mathbf{k_{b}}\\otimes \\mathbf{i_{b}} + I_{z} \\mathbf{k_{b}}\\otimes \\mathbf{k_{b}}$"
       ],
       "metadata": {},
       "output_type": "pyout",
       "prompt_number": 7,
       "text": [
        "I_x*(Body.x|Body.x) - J_xz*(Body.x|Body.z) + I_y*(Body.y|Body.y) - J_xz*(Body.z|Body.x) + I_z*(Body.z|Body.z)"
       ]
      }
     ],
     "prompt_number": 7
    },
    {
     "cell_type": "code",
     "collapsed": false,
     "input": [
      "F_x, F_y, F_z = dynamicsymbols('F_x, F_y, F_z')\n",
      "L, M, N = dynamicsymbols('L, M, N')\n",
      "u, v, w = dynamicsymbols('u, v, w')\n",
      "p, q, r = dynamicsymbols('p, q, r')\n",
      "\n",
      "F = F_x * Body.x + F_y * Body.y + F_z * Body.z\n",
      "G = L * Body.x + M * Body.y + N * Body.z\n",
      "V = u * Body.x + v * Body.y + w * Body.z\n",
      "W = p * Body.x + q * Body.y + r * Body.z"
     ],
     "language": "python",
     "metadata": {},
     "outputs": [],
     "prompt_number": 9
    },
    {
     "cell_type": "code",
     "collapsed": false,
     "input": [
      "F = (V.dt(Body)) + (W ^ V)\n",
      "F"
     ],
     "language": "python",
     "metadata": {},
     "outputs": [
      {
       "latex": [
        "$(q{\\left (t \\right )} w{\\left (t \\right )} - r{\\left (t \\right )} v{\\left (t \\right )} + \\dot{u})\\mathbf{i_{b}} + (- p{\\left (t \\right )} w{\\left (t \\right )} + r{\\left (t \\right )} u{\\left (t \\right )} + \\dot{v})\\mathbf{j_{b}} + (p{\\left (t \\right )} v{\\left (t \\right )} - q{\\left (t \\right )} u{\\left (t \\right )} + \\dot{w})\\mathbf{k_{b}}$"
       ],
       "metadata": {},
       "output_type": "pyout",
       "prompt_number": 10,
       "text": [
        "(q*w - r*v + u')*Body.x + (-p*w + r*u + v')*Body.y + (p*v - q*u + w')*Body.z"
       ]
      }
     ],
     "prompt_number": 10
    },
    {
     "cell_type": "code",
     "collapsed": false,
     "input": [
      "G = ((I & W).dt(Body)) + (W ^ (I & W))\n",
      "G"
     ],
     "language": "python",
     "metadata": {},
     "outputs": [
      {
       "latex": [
        "$(I_{x} \\dot{p} - I_{y} q{\\left (t \\right )} r{\\left (t \\right )} - J_{xz} \\dot{r} + \\left(I_{z} r{\\left (t \\right )} - J_{xz} p{\\left (t \\right )}\\right) q{\\left (t \\right )})\\mathbf{i_{b}} + (I_{y} \\dot{q} + \\left(I_{x} p{\\left (t \\right )} - J_{xz} r{\\left (t \\right )}\\right) r{\\left (t \\right )} - \\left(I_{z} r{\\left (t \\right )} - J_{xz} p{\\left (t \\right )}\\right) p{\\left (t \\right )})\\mathbf{j_{b}} + (I_{y} p{\\left (t \\right )} q{\\left (t \\right )} + I_{z} \\dot{r} - J_{xz} \\dot{p} - \\left(I_{x} p{\\left (t \\right )} - J_{xz} r{\\left (t \\right )}\\right) q{\\left (t \\right )})\\mathbf{k_{b}}$"
       ],
       "metadata": {},
       "output_type": "pyout",
       "prompt_number": 11,
       "text": [
        "(I_x*p' - I_y*q*r - J_xz*r' + (I_z*r - J_xz*p)*q)*Body.x + (I_y*q' + (I_x*p - J_xz*r)*r - (I_z*r - J_xz*p)*p)*Body.y + (I_y*p*q + I_z*r' - J_xz*p' - (I_x*p - J_xz*r)*q)*Body.z"
       ]
      }
     ],
     "prompt_number": 11
    },
    {
     "cell_type": "heading",
     "level": 2,
     "metadata": {},
     "source": [
      "Relaciones cinem\u00e1ticas angulares."
     ]
    },
    {
     "cell_type": "code",
     "collapsed": false,
     "input": [
      "Body.ang_vel_in(Hor)"
     ],
     "language": "python",
     "metadata": {},
     "outputs": [
      {
       "latex": [
        "$(- \\sin{\\left (\\theta{\\left (t \\right )} \\right )} \\dot{\\psi} + \\dot{\\phi})\\mathbf{i_{b}} + (\\sin{\\left (\\phi{\\left (t \\right )} \\right )} \\cos{\\left (\\theta{\\left (t \\right )} \\right )} \\dot{\\psi} + \\cos{\\left (\\phi{\\left (t \\right )} \\right )} \\dot{\\theta})\\mathbf{j_{b}} + (- \\sin{\\left (\\phi{\\left (t \\right )} \\right )} \\dot{\\theta} + \\cos{\\left (\\phi{\\left (t \\right )} \\right )} \\cos{\\left (\\theta{\\left (t \\right )} \\right )} \\dot{\\psi})\\mathbf{k_{b}}$"
       ],
       "metadata": {},
       "output_type": "pyout",
       "prompt_number": 14,
       "text": [
        "(-sin(theta)*psi' + phi')*Body.x + (sin(phi)*cos(theta)*psi' + cos(phi)*theta')*Body.y + (-sin(phi)*theta' + cos(phi)*cos(theta)*psi')*Body.z"
       ]
      }
     ],
     "prompt_number": 14
    },
    {
     "cell_type": "code",
     "collapsed": false,
     "input": [
      "ang_vel = Body.ang_vel_in(Hor)-(p * Body.x + q * Body.y + r * Body.z)\n",
      "solve([ang_vel.args[0][0][i] for i in range(3)],[diff(phi),diff(theta),diff(psi)])"
     ],
     "language": "python",
     "metadata": {},
     "outputs": [
      {
       "latex": [
        "$$\\begin{Bmatrix}\\frac{d}{d t} \\phi{\\left (t \\right )} : p{\\left (t \\right )} + q{\\left (t \\right )} \\sin{\\left (\\phi{\\left (t \\right )} \\right )} \\tan{\\left (\\theta{\\left (t \\right )} \\right )} + r{\\left (t \\right )} \\cos{\\left (\\phi{\\left (t \\right )} \\right )} \\tan{\\left (\\theta{\\left (t \\right )} \\right )}, & \\frac{d}{d t} \\psi{\\left (t \\right )} : \\frac{\\cos{\\left (\\phi{\\left (t \\right )} \\right )}}{\\cos{\\left (\\theta{\\left (t \\right )} \\right )}} \\left(q{\\left (t \\right )} \\tan{\\left (\\phi{\\left (t \\right )} \\right )} + r{\\left (t \\right )}\\right), & \\frac{d}{d t} \\theta{\\left (t \\right )} : q{\\left (t \\right )} \\cos{\\left (\\phi{\\left (t \\right )} \\right )} - r{\\left (t \\right )} \\sin{\\left (\\phi{\\left (t \\right )} \\right )}\\end{Bmatrix}$$"
       ],
       "metadata": {},
       "output_type": "pyout",
       "png": "[encoded data removed]",
       "prompt_number": 15,
       "text": [
        "\u23a7d                                                                     d      \n",
        "\u23a8\u2500\u2500(\u03c6(t)): p(t) + q(t)\u22c5sin(\u03c6(t))\u22c5tan(\u03b8(t)) + r(t)\u22c5cos(\u03c6(t))\u22c5tan(\u03b8(t)), \u2500\u2500(\u03c8(t)\n",
        "\u23a9dt                                                                    dt     \n",
        "\n",
        "   (q(t)\u22c5tan(\u03c6(t)) + r(t))\u22c5cos(\u03c6(t))  d                                       \n",
        "): \u2500\u2500\u2500\u2500\u2500\u2500\u2500\u2500\u2500\u2500\u2500\u2500\u2500\u2500\u2500\u2500\u2500\u2500\u2500\u2500\u2500\u2500\u2500\u2500\u2500\u2500\u2500\u2500\u2500\u2500\u2500\u2500\u2500, \u2500\u2500(\u03b8(t)): q(t)\u22c5cos(\u03c6(t)) - r(t)\u22c5sin(\u03c6(t)\n",
        "               cos(\u03b8(t))              dt                                      \n",
        "\n",
        " \u23ab\n",
        ")\u23ac\n",
        " \u23ad"
       ]
      }
     ],
     "prompt_number": 15
    },
    {
     "cell_type": "code",
     "collapsed": false,
     "input": [],
     "language": "python",
     "metadata": {},
     "outputs": []
    }
   ],
   "metadata": {}
  }
 ]
}